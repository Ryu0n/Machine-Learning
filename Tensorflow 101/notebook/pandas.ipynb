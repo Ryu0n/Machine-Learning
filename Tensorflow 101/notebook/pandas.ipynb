{
  "nbformat": 4,
  "nbformat_minor": 0,
  "metadata": {
    "colab": {
      "name": "Untitled0.ipynb",
      "provenance": [],
      "collapsed_sections": [],
      "authorship_tag": "ABX9TyPdyz53kp1sVWhPiqbkMvKZ",
      "include_colab_link": true
    },
    "kernelspec": {
      "name": "python3",
      "display_name": "Python 3"
    }
  },
  "cells": [
    {
      "cell_type": "markdown",
      "metadata": {
        "id": "view-in-github",
        "colab_type": "text"
      },
      "source": [
        "<a href=\"https://colab.research.google.com/github/Ryu0n/Machine-Learning/blob/main/notebook/pandas.ipynb\" target=\"_parent\"><img src=\"https://colab.research.google.com/assets/colab-badge.svg\" alt=\"Open In Colab\"/></a>"
      ]
    },
    {
      "cell_type": "code",
      "metadata": {
        "id": "_m4QgRYnsQI7"
      },
      "source": [
        "import pandas as pd\n",
        "\n",
        "lemonade_path = 'https://raw.githubusercontent.com/blackdew/tensorflow1/master/csv/lemonade.csv'\n",
        "iris_path = 'https://raw.githubusercontent.com/blackdew/tensorflow1/master/csv/iris.csv'\n",
        "boston_path = 'https://raw.githubusercontent.com/blackdew/tensorflow1/master/csv/boston.csv'"
      ],
      "execution_count": null,
      "outputs": []
    },
    {
      "cell_type": "code",
      "metadata": {
        "id": "rZWzkl78qeI-"
      },
      "source": [
        "# 파일 읽기\n",
        "lemonade = pd.read_csv(lemonade_path)\n",
        "iris = pd.read_csv(iris_path)\n",
        "boston = pd.read_csv(boston_path)"
      ],
      "execution_count": 2,
      "outputs": []
    },
    {
      "cell_type": "code",
      "metadata": {
        "colab": {
          "base_uri": "https://localhost:8080/"
        },
        "id": "pvL4VpoRsFev",
        "outputId": "3d8860f1-ccf7-467d-848f-5572352b7e96"
      },
      "source": [
        "# 데이터 모양\n",
        "print(lemonade.shape)\n",
        "print(iris.shape)\n",
        "print(boston.shape)"
      ],
      "execution_count": 3,
      "outputs": [
        {
          "output_type": "stream",
          "text": [
            "(6, 2)\n",
            "(150, 5)\n",
            "(506, 14)\n"
          ],
          "name": "stdout"
        }
      ]
    },
    {
      "cell_type": "code",
      "metadata": {
        "colab": {
          "base_uri": "https://localhost:8080/"
        },
        "id": "qco7wfGRsdvK",
        "outputId": "c76a13aa-4a0e-4c7a-ad0b-3c1b8607bf5b"
      },
      "source": [
        "# 데이터 칼럼\n",
        "print(lemonade.columns)\n",
        "print(iris.columns)\n",
        "print(boston.columns)"
      ],
      "execution_count": 4,
      "outputs": [
        {
          "output_type": "stream",
          "text": [
            "Index(['온도', '판매량'], dtype='object')\n",
            "Index(['꽃잎길이', '꽃잎폭', '꽃받침길이', '꽃받침폭', '품종'], dtype='object')\n",
            "Index(['crim', 'zn', 'indus', 'chas', 'nox', 'rm', 'age', 'dis', 'rad', 'tax',\n",
            "       'ptratio', 'b', 'lstat', 'medv'],\n",
            "      dtype='object')\n"
          ],
          "name": "stdout"
        }
      ]
    },
    {
      "cell_type": "code",
      "metadata": {
        "colab": {
          "base_uri": "https://localhost:8080/"
        },
        "id": "zQ9XE1a7s7mi",
        "outputId": "156460f7-0a0e-4edc-bc7e-28b7071e5644"
      },
      "source": [
        "# 레몬에이드 독립변수, 종속변수 구분하기\n",
        "lemonade_independent_variable = lemonade[['온도']]\n",
        "lemonade_dependent_variable = lemonade[['판매량']]\n",
        "print(lemonade_independent_variable.shape, lemonade_dependent_variable.shape)\n",
        "\n",
        "# 아이리스 독립변수, 종속변수 구분하기\n",
        "iris_independent_variable = iris[['꽃잎길이', '꽃잎폭', '꽃받침길이', '꽃받침폭']]\n",
        "iris_dependent_variable = iris[['품종']]\n",
        "print(iris_independent_variable.shape, iris_dependent_variable.shape)\n",
        "\n",
        "# 보스톤 독립변수, 종속변수 구분하기\n",
        "boston_independent_variable = boston[['crim', 'zn', 'indus', 'chas', 'nox', 'rm', 'age', 'dis', 'rad', 'tax',\n",
        "       'ptratio', 'b', 'lstat']]\n",
        "boston_dependent_variable = boston[['medv']]\n",
        "print(boston_independent_variable.shape, boston_dependent_variable.shape)"
      ],
      "execution_count": 8,
      "outputs": [
        {
          "output_type": "stream",
          "text": [
            "(6, 1) (6, 1)\n",
            "(150, 4) (150, 1)\n",
            "(506, 13) (506, 1)\n"
          ],
          "name": "stdout"
        }
      ]
    },
    {
      "cell_type": "code",
      "metadata": {
        "colab": {
          "base_uri": "https://localhost:8080/"
        },
        "id": "dmyblBelvIdS",
        "outputId": "14c4f39e-81d0-44fd-ba6b-bf420513e2c1"
      },
      "source": [
        "print(lemonade_independent_variable.head(), lemonade_dependent_variable.head())\n",
        "print(iris_independent_variable.head(), iris_dependent_variable.head())\n",
        "print(boston_independent_variable.head(7), boston_dependent_variable.head(7))"
      ],
      "execution_count": 10,
      "outputs": [
        {
          "output_type": "stream",
          "text": [
            "   온도\n",
            "0  20\n",
            "1  21\n",
            "2  22\n",
            "3  23\n",
            "4  24    판매량\n",
            "0   40\n",
            "1   42\n",
            "2   44\n",
            "3   46\n",
            "4   48\n",
            "   꽃잎길이  꽃잎폭  꽃받침길이  꽃받침폭\n",
            "0   5.1  3.5    1.4   0.2\n",
            "1   4.9  3.0    1.4   0.2\n",
            "2   4.7  3.2    1.3   0.2\n",
            "3   4.6  3.1    1.5   0.2\n",
            "4   5.0  3.6    1.4   0.2        품종\n",
            "0  setosa\n",
            "1  setosa\n",
            "2  setosa\n",
            "3  setosa\n",
            "4  setosa\n",
            "      crim    zn  indus  chas    nox  ...  rad  tax  ptratio       b  lstat\n",
            "0  0.00632  18.0   2.31     0  0.538  ...    1  296     15.3  396.90   4.98\n",
            "1  0.02731   0.0   7.07     0  0.469  ...    2  242     17.8  396.90   9.14\n",
            "2  0.02729   0.0   7.07     0  0.469  ...    2  242     17.8  392.83   4.03\n",
            "3  0.03237   0.0   2.18     0  0.458  ...    3  222     18.7  394.63   2.94\n",
            "4  0.06905   0.0   2.18     0  0.458  ...    3  222     18.7  396.90   5.33\n",
            "5  0.02985   0.0   2.18     0  0.458  ...    3  222     18.7  394.12   5.21\n",
            "6  0.08829  12.5   7.87     0  0.524  ...    5  311     15.2  395.60  12.43\n",
            "\n",
            "[7 rows x 13 columns]    medv\n",
            "0  24.0\n",
            "1  21.6\n",
            "2  34.7\n",
            "3  33.4\n",
            "4  36.2\n",
            "5  28.7\n",
            "6  22.9\n"
          ],
          "name": "stdout"
        }
      ]
    }
  ]
}